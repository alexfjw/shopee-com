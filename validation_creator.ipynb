{
 "cells": [
  {
   "cell_type": "code",
   "execution_count": 13,
   "metadata": {},
   "outputs": [],
   "source": [
    "import os as os\n",
    "from os import *\n",
    "import random\n",
    "import shutil"
   ]
  },
  {
   "cell_type": "code",
   "execution_count": 36,
   "metadata": {},
   "outputs": [
    {
     "name": "stdout",
     "output_type": "stream",
     "text": [
      "['BabyBibs', 'BabyHat', 'BabyPants', 'BabyShirt', 'PackageFart', 'womanshirtsleeve', 'womencasualshoes', 'womenchiffontop', 'womendollshoes', 'womenknittedtop', 'womenlazyshoes', 'womenlongsleevetop', 'womenpeashoes', 'womenplussizedtop', 'womenpointedflatshoes', 'womensleevelesstop', 'womenstripedtop', 'wrapsnslings']\n",
      "['.DS_Store', 'wrapsnslings', 'womensleevelesstop', 'womencasualshoes', 'BabyBibs', 'womanshirtsleeve', 'womenplussizedtop', 'womenstripedtop', 'BabyHat', 'womenlazyshoes', 'womenknittedtop', 'womenpointedflatshoes', 'BabyShirt', 'womenlongsleevetop', 'womendollshoes', 'BabyPants', 'womenchiffontop', 'womenpeashoes', 'PackageFart']\n"
     ]
    }
   ],
   "source": [
    "PATH = 'data'\n",
    "train_root = f'{PATH}/train'\n",
    "valid_root = f'{PATH}/valid'\n",
    "classes = !ls {train_root}\n",
    "classes_2 = os.listdir(train_root)\n",
    "print(classes)\n",
    "print(classes_2)"
   ]
  },
  {
   "cell_type": "code",
   "execution_count": 32,
   "metadata": {},
   "outputs": [],
   "source": [
    "def mv_to_valid(chosen_files, classname):\n",
    "    for i in chosen_files:\n",
    "        shutil.move(f'{train_root}/{classname}/{i}', f'{valid_root}/{classname}/{i}')"
   ]
  },
  {
   "cell_type": "code",
   "execution_count": 37,
   "metadata": {},
   "outputs": [],
   "source": [
    "def train_val_split(val_percentage=0.2):\n",
    "    random.seed(1)\n",
    "    for classname in classes:\n",
    "        os.makedirs(f'{valid_root}/{classname}', exist_ok=True)\n",
    "        list_of_imgs = !ls \"{train_root}/{classname}\"\n",
    "        random.shuffle(list_of_imgs)\n",
    "        n_files_moved=int(len(list_of_imgs)*val_percentage)\n",
    "        selected_files = [list_of_imgs[m] for m in range(n_files_moved)]\n",
    "        mv_to_valid(selected_files, classname)"
   ]
  },
  {
   "cell_type": "code",
   "execution_count": 38,
   "metadata": {},
   "outputs": [],
   "source": [
    "def mv_to_train(chosen_files, classname):\n",
    "    for i in chosen_files:\n",
    "        src = f'{valid_root}/{classname}/{i}'\n",
    "        dst = f'{train_root}/{classname}/{i}'\n",
    "        shutil.move(src, dst)\n",
    "    \n",
    "def put_back_to_train():\n",
    "    for classname in classes:\n",
    "        list_of_file_dirs = !ls \"{PATH}/valid/{classname}\"\n",
    "        mv_to_train(list_of_file_dirs, classname)\n",
    "    "
   ]
  },
  {
   "cell_type": "code",
   "execution_count": 26,
   "metadata": {},
   "outputs": [],
   "source": [
    "put_back_to_train()"
   ]
  },
  {
   "cell_type": "code",
   "execution_count": 39,
   "metadata": {},
   "outputs": [],
   "source": [
    "train_val_split()"
   ]
  },
  {
   "cell_type": "code",
   "execution_count": null,
   "metadata": {},
   "outputs": [],
   "source": []
  }
 ],
 "metadata": {
  "kernelspec": {
   "display_name": "Python (root)",
   "language": "python",
   "name": "root"
  },
  "language_info": {
   "codemirror_mode": {
    "name": "ipython",
    "version": 3
   },
   "file_extension": ".py",
   "mimetype": "text/x-python",
   "name": "python",
   "nbconvert_exporter": "python",
   "pygments_lexer": "ipython3",
   "version": "3.6.4"
  }
 },
 "nbformat": 4,
 "nbformat_minor": 2
}
