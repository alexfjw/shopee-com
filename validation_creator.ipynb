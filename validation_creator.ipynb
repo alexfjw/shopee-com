{
 "cells": [
  {
   "cell_type": "code",
   "execution_count": 5,
   "metadata": {},
   "outputs": [],
   "source": [
    "import os as os\n",
    "from os import *\n",
    "import random\n",
    "import shutil\n",
    "import itertools\n",
    "from fastai.dataset import *\n",
    "import numpy as np\n",
    "from glob import glob"
   ]
  },
  {
   "cell_type": "code",
   "execution_count": 3,
   "metadata": {},
   "outputs": [],
   "source": [
    "PATH = 'data'\n",
    "train_root = f'{PATH}/train'\n",
    "valid_root = f'{PATH}/valid'"
   ]
  },
  {
   "cell_type": "code",
   "execution_count": 12,
   "metadata": {},
   "outputs": [],
   "source": [
    "def count_original_files(path):\n",
    "    classes = os.listdir(path)\n",
    "    full_dirs = [os.path.join(path, c) for c in classes]\n",
    "    sz = len(os.listdir(full_dirs[0]))\n",
    "    lens = []\n",
    "    for full_dir in full_dirs:\n",
    "        copies = glob(f'{full_dir}/copy_*')\n",
    "        remainder = sz - len(copies)\n",
    "        lens.append(remainder)\n",
    "    return lens\n",
    "\n",
    "orig_file_counts = count_original_files(train_root)"
   ]
  },
  {
   "cell_type": "code",
   "execution_count": 13,
   "metadata": {},
   "outputs": [
    {
     "name": "stdout",
     "output_type": "stream",
     "text": [
      "[34.74545454545454, 29.542028985507248, 12.324062877871826, 11.278495020287716, 18.092307692307692, 23.61081081081081, 47.18518518518518, 14.422641509433962, 12.787954830614806, 16.689956331877728, 22.75, 19.984313725490196, 13.105872267466781, 26.40414507772021, 19.841661258922777, 11.985887887103097, 21.0, 19.351898734177215]\n"
     ]
    }
   ],
   "source": [
    "def get_scaled_factors(sizes):\n",
    "    combined = sum(sizes)\n",
    "    divide_by = [combined/sz for sz in sizes]\n",
    "    print(divide_by)\n",
    "\n",
    "get_scaled_factors(orig_file_counts)"
   ]
  },
  {
   "cell_type": "code",
   "execution_count": 31,
   "metadata": {},
   "outputs": [],
   "source": [
    "def increase_class_size(path, folder, target_size, file_ext='jpg'):\n",
    "    relative_paths = read_dir(path, folder)\n",
    "    files_required = target_size - len(relative_paths)\n",
    "    \n",
    "    np.random.shuffle(relative_paths)\n",
    "    files_to_copy = itertools.islice(itertools.cycle(relative_paths), files_required)\n",
    "    \n",
    "    base_copy_name = 'copy'\n",
    "    for idx, f in enumerate(files_to_copy):\n",
    "        copy_name = f'{base_copy_name}_{idx}.{file_ext}'\n",
    "        dir_head = os.path.split(f)[0]\n",
    "        dst = os.path.join(path, dir_head, copy_name)\n",
    "        src = os.path.join(path, f)\n",
    "        shutil.copy(src, dst)\n",
    "    \n",
    "def get_num_samples(path):\n",
    "    sub_folders = os.listdir(path)\n",
    "    full_dirs = [os.path.join(path, folder) for folder in sub_folders]\n",
    "    contents_in_sub_folders = [os.listdir(d) for d in full_dirs]\n",
    "    sizes = [len(c) for c in contents_in_sub_folders]\n",
    "    return sizes\n",
    "\n",
    "def gen_extra_samples(train_root):\n",
    "    largest_class_size = max(get_num_samples(train_root))\n",
    "    classes = os.listdir(train_root)\n",
    "    for c in classes:\n",
    "        increase_class_size(train_root, c, largest_class_size)\n",
    "    \n",
    "    "
   ]
  },
  {
   "cell_type": "code",
   "execution_count": 32,
   "metadata": {},
   "outputs": [],
   "source": [
    "gen_extra_samples(train_root)"
   ]
  },
  {
   "cell_type": "code",
   "execution_count": 32,
   "metadata": {},
   "outputs": [],
   "source": [
    "def mv_to_valid(chosen_files, classname):\n",
    "    for i in chosen_files:\n",
    "        shutil.move(f'{train_root}/{classname}/{i}', f'{valid_root}/{classname}/{i}')"
   ]
  },
  {
   "cell_type": "code",
   "execution_count": 37,
   "metadata": {},
   "outputs": [],
   "source": [
    "def train_val_split(val_percentage=0.2):\n",
    "    random.seed(1)\n",
    "    classes = os.listdir(train_root)\n",
    "    for classname in classes:\n",
    "        os.makedirs(f'{valid_root}/{classname}', exist_ok=True)\n",
    "        list_of_imgs = !ls \"{train_root}/{classname}\"\n",
    "        random.shuffle(list_of_imgs)\n",
    "        n_files_moved=int(len(list_of_imgs)*val_percentage)\n",
    "        selected_files = [list_of_imgs[m] for m in range(n_files_moved)]\n",
    "        mv_to_valid(selected_files, classname)"
   ]
  },
  {
   "cell_type": "code",
   "execution_count": 38,
   "metadata": {},
   "outputs": [],
   "source": [
    "def mv_to_train(chosen_files, classname):\n",
    "    for i in chosen_files:\n",
    "        src = f'{valid_root}/{classname}/{i}'\n",
    "        dst = f'{train_root}/{classname}/{i}'\n",
    "        shutil.move(src, dst)\n",
    "    \n",
    "def put_back_to_train():\n",
    "    for classname in classes:\n",
    "        list_of_file_dirs = !ls \"{PATH}/valid/{classname}\"\n",
    "        mv_to_train(list_of_file_dirs, classname)\n",
    "    "
   ]
  },
  {
   "cell_type": "code",
   "execution_count": 26,
   "metadata": {},
   "outputs": [],
   "source": [
    "put_back_to_train()"
   ]
  },
  {
   "cell_type": "code",
   "execution_count": 39,
   "metadata": {},
   "outputs": [],
   "source": [
    "train_val_split()"
   ]
  },
  {
   "cell_type": "code",
   "execution_count": 36,
   "metadata": {},
   "outputs": [],
   "source": [
    "sample_train = f'{PATH}/sample/train'\n",
    "sample_valid = f'{PATH}/sample/valid'\n",
    "os.makedirs(sample_train, exist_ok=True)\n",
    "os.makedirs(sample_valid, exist_ok=True)\n",
    "random.seed(1)\n",
    "\n",
    "def cp_to_dir(filenames, src_root, dest_root):\n",
    "    for fn in filenames:\n",
    "        src = f'{src_root}/{fn}'\n",
    "        dst = f'{dest_root}/{fn}'\n",
    "        shutil.copy2(src, dst)\n",
    "\n",
    "def build_sample_train(perc=0.1):\n",
    "    classes = os.listdir(train_root)\n",
    "    for classname in classes:\n",
    "        dest_root = f'{sample_train}/{classname}'\n",
    "        src_root = f'{train_root}/{classname}'\n",
    "        os.makedirs(dest_root, exist_ok=True)\n",
    "        imgs = os.listdir(src_root)\n",
    "        random.shuffle(imgs)\n",
    "        n_to_copy = int(len(imgs)*perc)\n",
    "        selected = [imgs[i] for i in range(n_to_copy)]\n",
    "        cp_to_dir(selected, src_root, dest_root)"
   ]
  },
  {
   "cell_type": "code",
   "execution_count": 13,
   "metadata": {},
   "outputs": [],
   "source": [
    "def build_sample_valid(perc=0.1):\n",
    "    classes = os.listdir(valid_root)\n",
    "    for classname in classes:\n",
    "        dest_root = f'{sample_valid}/{classname}'\n",
    "        src_root = f'{valid_root}/{classname}'\n",
    "        os.makedirs(dest_root, exist_ok=True)\n",
    "        imgs = os.listdir(src_root)\n",
    "        random.shuffle(imgs)\n",
    "        n_to_copy = int(len(imgs)*perc)\n",
    "        selected = [imgs[i] for i in range(n_to_copy)]\n",
    "        cp_to_dir(selected, src_root, dest_root)"
   ]
  },
  {
   "cell_type": "code",
   "execution_count": 38,
   "metadata": {},
   "outputs": [],
   "source": [
    "build_sample_train()"
   ]
  },
  {
   "cell_type": "code",
   "execution_count": 14,
   "metadata": {},
   "outputs": [],
   "source": [
    "build_sample_valid()"
   ]
  },
  {
   "cell_type": "code",
   "execution_count": null,
   "metadata": {},
   "outputs": [],
   "source": []
  }
 ],
 "metadata": {
  "kernelspec": {
   "display_name": "Python (root)",
   "language": "python",
   "name": "root"
  },
  "language_info": {
   "codemirror_mode": {
    "name": "ipython",
    "version": 3
   },
   "file_extension": ".py",
   "mimetype": "text/x-python",
   "name": "python",
   "nbconvert_exporter": "python",
   "pygments_lexer": "ipython3",
   "version": "3.6.4"
  }
 },
 "nbformat": 4,
 "nbformat_minor": 2
}
