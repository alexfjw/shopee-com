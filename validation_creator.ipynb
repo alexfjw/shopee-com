{
 "cells": [
  {
   "cell_type": "code",
   "execution_count": 8,
   "metadata": {},
   "outputs": [],
   "source": [
    "import os as os\n",
    "from os import *\n",
    "import random\n",
    "import shutil"
   ]
  },
  {
   "cell_type": "code",
   "execution_count": 3,
   "metadata": {},
   "outputs": [
    {
     "name": "stdout",
     "output_type": "stream",
     "text": [
      "['wrapsnslings', 'womensleevelesstop', 'womencasualshoes', 'BabyBibs', 'womanshirtsleeve', 'womenplussizedtop', 'womenstripedtop', 'BabyHat', 'womenlazyshoes', 'womenknittedtop', 'womenpointedflatshoes', 'BabyShirt', 'womenlongsleevetop', 'womendollshoes', 'BabyPants', 'womenchiffontop', 'womenpeashoes', 'PackageFart']\n"
     ]
    }
   ],
   "source": [
    "PATH = 'data'\n",
    "train_root = f'{PATH}/train'\n",
    "valid_root = f'{PATH}/valid'\n",
    "classes = os.listdir(train_root)\n",
    "print(classes)"
   ]
  },
  {
   "cell_type": "code",
   "execution_count": 32,
   "metadata": {},
   "outputs": [],
   "source": [
    "def mv_to_valid(chosen_files, classname):\n",
    "    for i in chosen_files:\n",
    "        shutil.move(f'{train_root}/{classname}/{i}', f'{valid_root}/{classname}/{i}')"
   ]
  },
  {
   "cell_type": "code",
   "execution_count": 37,
   "metadata": {},
   "outputs": [],
   "source": [
    "def train_val_split(val_percentage=0.2):\n",
    "    random.seed(1)\n",
    "    for classname in classes:\n",
    "        os.makedirs(f'{valid_root}/{classname}', exist_ok=True)\n",
    "        list_of_imgs = !ls \"{train_root}/{classname}\"\n",
    "        random.shuffle(list_of_imgs)\n",
    "        n_files_moved=int(len(list_of_imgs)*val_percentage)\n",
    "        selected_files = [list_of_imgs[m] for m in range(n_files_moved)]\n",
    "        mv_to_valid(selected_files, classname)"
   ]
  },
  {
   "cell_type": "code",
   "execution_count": 38,
   "metadata": {},
   "outputs": [],
   "source": [
    "def mv_to_train(chosen_files, classname):\n",
    "    for i in chosen_files:\n",
    "        src = f'{valid_root}/{classname}/{i}'\n",
    "        dst = f'{train_root}/{classname}/{i}'\n",
    "        shutil.move(src, dst)\n",
    "    \n",
    "def put_back_to_train():\n",
    "    for classname in classes:\n",
    "        list_of_file_dirs = !ls \"{PATH}/valid/{classname}\"\n",
    "        mv_to_train(list_of_file_dirs, classname)\n",
    "    "
   ]
  },
  {
   "cell_type": "code",
   "execution_count": 26,
   "metadata": {},
   "outputs": [],
   "source": [
    "put_back_to_train()"
   ]
  },
  {
   "cell_type": "code",
   "execution_count": 39,
   "metadata": {},
   "outputs": [],
   "source": [
    "train_val_split()"
   ]
  },
  {
   "cell_type": "code",
   "execution_count": 11,
   "metadata": {},
   "outputs": [],
   "source": [
    "sample_train = f'{PATH}/sample/train'\n",
    "sample_valid = f'{PATH}/sample/valid'\n",
    "os.makedirs(sample_train, exist_ok=True)\n",
    "os.makedirs(sample_valid, exist_ok=True)\n",
    "random.seed(1)\n",
    "\n",
    "def cp_to_dir(filenames, src_root, dest_root):\n",
    "    for fn in filenames:\n",
    "        src = f'{src_root}/{fn}'\n",
    "        dst = f'{dest_root}/{fn}'\n",
    "        shutil.copy2(src, dst)\n",
    "\n",
    "def build_sample_train(perc=0.1):\n",
    "    classes = os.listdir(train_root)\n",
    "    for classname in classes:\n",
    "        dest_root = f'{sample_train}/{classname}'\n",
    "        src_root = f'{train_root}/{classname}'\n",
    "        os.makedirs(dest_root, exist_ok=True)\n",
    "        imgs = os.listdir(src_root)\n",
    "        random.shuffle(imgs)\n",
    "        n_to_copy = int(len(imgs)*perc)\n",
    "        selected = [imgs[i] for i in range(n_to_copy)]\n",
    "        cp_to_dir(selected, src_root, dest_root)"
   ]
  },
  {
   "cell_type": "code",
   "execution_count": 13,
   "metadata": {},
   "outputs": [],
   "source": [
    "def build_sample_valid(perc=0.1):\n",
    "    classes = os.listdir(valid_root)\n",
    "    for classname in classes:\n",
    "        dest_root = f'{sample_valid}/{classname}'\n",
    "        src_root = f'{valid_root}/{classname}'\n",
    "        os.makedirs(dest_root, exist_ok=True)\n",
    "        imgs = os.listdir(src_root)\n",
    "        random.shuffle(imgs)\n",
    "        n_to_copy = int(len(imgs)*perc)\n",
    "        selected = [imgs[i] for i in range(n_to_copy)]\n",
    "        cp_to_dir(selected, src_root, dest_root)"
   ]
  },
  {
   "cell_type": "code",
   "execution_count": 12,
   "metadata": {},
   "outputs": [],
   "source": [
    "build_sample_train()"
   ]
  },
  {
   "cell_type": "code",
   "execution_count": 14,
   "metadata": {},
   "outputs": [],
   "source": [
    "build_sample_valid()"
   ]
  },
  {
   "cell_type": "code",
   "execution_count": null,
   "metadata": {},
   "outputs": [],
   "source": []
  }
 ],
 "metadata": {
  "kernelspec": {
   "display_name": "Python (root)",
   "language": "python",
   "name": "root"
  },
  "language_info": {
   "codemirror_mode": {
    "name": "ipython",
    "version": 3
   },
   "file_extension": ".py",
   "mimetype": "text/x-python",
   "name": "python",
   "nbconvert_exporter": "python",
   "pygments_lexer": "ipython3",
   "version": "3.6.4"
  }
 },
 "nbformat": 4,
 "nbformat_minor": 2
}
